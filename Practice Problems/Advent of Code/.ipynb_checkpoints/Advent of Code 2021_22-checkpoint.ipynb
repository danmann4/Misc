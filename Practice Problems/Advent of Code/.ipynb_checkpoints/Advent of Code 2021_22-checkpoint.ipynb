{
 "cells": [
  {
   "cell_type": "code",
   "execution_count": 20,
   "id": "75416ce6",
   "metadata": {},
   "outputs": [],
   "source": [
    "from collections import defaultdict\n",
    "#Import the input\n",
    "with open('2021 inputs/Day 22.txt') as f:\n",
    "    f = f.read().splitlines()\n",
    "    \n",
    "test_1 = ['on x=10..12,y=10..12,z=10..12',\n",
    "       'on x=11..13,y=11..13,z=11..13',\n",
    "        'off x=9..11,y=9..11,z=9..11',\n",
    "        'on x=10..10,y=10..10,z=10..10']\n",
    "test_2 = ['on x=-20..26,y=-36..17,z=-47..7',\n",
    "'on x=-20..33,y=-21..23,z=-26..28',\n",
    "'on x=-22..28,y=-29..23,z=-38..16',\n",
    "'on x=-46..7,y=-6..46,z=-50..-1',\n",
    "'on x=-49..1,y=-3..46,z=-24..28',\n",
    "'on x=2..47,y=-22..22,z=-23..27',\n",
    "'on x=-27..23,y=-28..26,z=-21..29',\n",
    "'on x=-39..5,y=-6..47,z=-3..44',\n",
    "'on x=-30..21,y=-8..43,z=-13..34',\n",
    "'on x=-22..26,y=-27..20,z=-29..19',\n",
    "'off x=-48..-32,y=26..41,z=-47..-37',\n",
    "'on x=-12..35,y=6..50,z=-50..-2',\n",
    "'off x=-48..-32,y=-32..-16,z=-15..-5',\n",
    "'on x=-18..26,y=-33..15,z=-7..46',\n",
    "'off x=-40..-22,y=-38..-28,z=23..41',\n",
    "'on x=-16..35,y=-41..10,z=-47..6',\n",
    "'off x=-32..-23,y=11..30,z=-14..3',\n",
    "'on x=-49..-5,y=-3..45,z=-29..18',\n",
    "'off x=18..30,y=-20..-8,z=-3..13',\n",
    "'on x=-41..9,y=-7..43,z=-33..15',\n",
    "'on x=-54112..-39298,y=-85059..-49293,z=-27449..7877',\n",
    "'on x=967..23432,y=45373..81175,z=27513..53682']"
   ]
  },
  {
   "cell_type": "code",
   "execution_count": 25,
   "id": "d79e7dc5",
   "metadata": {
    "scrolled": true
   },
   "outputs": [
    {
     "data": {
      "text/plain": [
       "623748"
      ]
     },
     "execution_count": 25,
     "metadata": {},
     "output_type": "execute_result"
    }
   ],
   "source": [
    "# Brute force part #1\n",
    "def reactor_1(puzzle):\n",
    "    on = defaultdict(set)\n",
    "    for line in puzzle:\n",
    "        condition, string = line.split()\n",
    "        coord_str = string.split(',')\n",
    "        x,y,z = coord_str[0][2:].split('..'),coord_str[1][2:].split('..'),coord_str[2][2:].split('..')\n",
    "        coords = [int(a) for a in (x+y+z)]\n",
    "        if not any([-50 <= val <= 50 for val in coords]):\n",
    "            continue\n",
    "        else:\n",
    "            for i in range(coords[0], coords[1]+1):\n",
    "                for j in range(coords[2], coords[3]+1): \n",
    "                    for k in range(coords[4], coords[5]+1): \n",
    "                        if condition == 'on':\n",
    "                            on[i].add((j, k))\n",
    "                        else:\n",
    "                            on[i].discard((j, k))\n",
    "    return sum([len(val) for val in on.values()])\n",
    "reactor_1(f)"
   ]
  },
  {
   "cell_type": "code",
   "execution_count": null,
   "id": "f2662e03",
   "metadata": {
    "scrolled": true
   },
   "outputs": [],
   "source": []
  },
  {
   "cell_type": "code",
   "execution_count": null,
   "id": "21996023",
   "metadata": {
    "scrolled": true
   },
   "outputs": [],
   "source": []
  }
 ],
 "metadata": {
  "kernelspec": {
   "display_name": "Python 3 (ipykernel)",
   "language": "python",
   "name": "python3"
  },
  "language_info": {
   "codemirror_mode": {
    "name": "ipython",
    "version": 3
   },
   "file_extension": ".py",
   "mimetype": "text/x-python",
   "name": "python",
   "nbconvert_exporter": "python",
   "pygments_lexer": "ipython3",
   "version": "3.9.7"
  }
 },
 "nbformat": 4,
 "nbformat_minor": 5
}

{
 "cells": [
  {
   "cell_type": "code",
   "execution_count": 20,
   "id": "75416ce6",
   "metadata": {},
   "outputs": [],
   "source": [
    "from collections import defaultdict\n",
    "#Import the input\n",
    "with open('2021 inputs/Day 22.txt') as f:\n",
    "    f = f.read().splitlines()\n",
    "    \n",
    "test_1 = ['on x=10..12,y=10..12,z=10..12',\n",
    "       'on x=11..13,y=11..13,z=11..13',\n",
    "        'off x=9..11,y=9..11,z=9..11',\n",
    "        'on x=10..10,y=10..10,z=10..10']\n",
    "test_2 = ['on x=-20..26,y=-36..17,z=-47..7',\n",
    "'on x=-20..33,y=-21..23,z=-26..28',\n",
    "'on x=-22..28,y=-29..23,z=-38..16',\n",
    "'on x=-46..7,y=-6..46,z=-50..-1',\n",
    "'on x=-49..1,y=-3..46,z=-24..28',\n",
    "'on x=2..47,y=-22..22,z=-23..27',\n",
    "'on x=-27..23,y=-28..26,z=-21..29',\n",
    "'on x=-39..5,y=-6..47,z=-3..44',\n",
    "'on x=-30..21,y=-8..43,z=-13..34',\n",
    "'on x=-22..26,y=-27..20,z=-29..19',\n",
    "'off x=-48..-32,y=26..41,z=-47..-37',\n",
    "'on x=-12..35,y=6..50,z=-50..-2',\n",
    "'off x=-48..-32,y=-32..-16,z=-15..-5',\n",
    "'on x=-18..26,y=-33..15,z=-7..46',\n",
    "'off x=-40..-22,y=-38..-28,z=23..41',\n",
    "'on x=-16..35,y=-41..10,z=-47..6',\n",
    "'off x=-32..-23,y=11..30,z=-14..3',\n",
    "'on x=-49..-5,y=-3..45,z=-29..18',\n",
    "'off x=18..30,y=-20..-8,z=-3..13',\n",
    "'on x=-41..9,y=-7..43,z=-33..15',\n",
    "'on x=-54112..-39298,y=-85059..-49293,z=-27449..7877',\n",
    "'on x=967..23432,y=45373..81175,z=27513..53682']"
   ]
  },
  {
   "cell_type": "code",
   "execution_count": 25,
   "id": "d79e7dc5",
   "metadata": {
    "scrolled": true
   },
   "outputs": [
    {
     "data": {
      "text/plain": [
       "623748"
      ]
     },
     "execution_count": 25,
     "metadata": {},
     "output_type": "execute_result"
    }
   ],
   "source": [
    "# Brute force part #1\n",
    "def reactor_1(puzzle):\n",
    "    on = defaultdict(set)\n",
    "    for line in puzzle:\n",
    "        condition, string = line.split()\n",
    "        coord_str = string.split(',')\n",
    "        x,y,z = coord_str[0][2:].split('..'),coord_str[1][2:].split('..'),coord_str[2][2:].split('..')\n",
    "        coords = [int(a) for a in (x+y+z)]\n",
    "        if not any([-50 <= val <= 50 for val in coords]):\n",
    "            continue\n",
    "        else:\n",
    "            for i in range(coords[0], coords[1]+1):\n",
    "                for j in range(coords[2], coords[3]+1): \n",
    "                    for k in range(coords[4], coords[5]+1): \n",
    "                        if condition == 'on':\n",
    "                            on[i].add((j, k))\n",
    "                        else:\n",
    "                            on[i].discard((j, k))\n",
    "    return sum([len(val) for val in on.values()])\n",
    "reactor_1(f)"
   ]
  },
  {
   "cell_type": "code",
   "execution_count": null,
   "id": "d1d58ef3",
   "metadata": {
    "scrolled": true
   },
   "outputs": [],
   "source": [
    "cuboids = [s.replace('x=','').replace(',y=',' ').replace(',z=',' ').replace('..',' ') for s in open('2021 inputs/Day 22.txt').readlines()]\n",
    "cuboids = [s.replace('on','1').replace('off','0') for s in cuboids]\n",
    "cuboids = [[int(x) for x in s.split()] for s in cuboids]\n",
    "#cuboids = [c for c in cuboids if abs(c[1]) <= 50] # for part 1\n",
    "\n",
    "# a cuboid is represented as [+1/-1,xmin,xmax,ymin,ymax,zmin,zmax]\n",
    "# where +1 is 'added cuboid' and -1 is 'subtracted cuboid'\n",
    "\n",
    "# return the cuboid at the intersection of cuboids s and t\n",
    "# if cuboid t is added, the intersection is subtracted, and vice versa\n",
    "def intersection(s,t):\n",
    "    mm = [lambda a,b:-b,max,min,max,min,max,min]\n",
    "    n = [mm[i](s[i],t[i]) for i in range(7)]\n",
    "    return None if n[1] > n[2] or n[3] > n[4] or n[5] > n[6] else n\n",
    "\n",
    "cores = []\n",
    "for cuboid in cuboids:\n",
    "    toadd = [cuboid] if cuboid[0] == 1 else [] # add cuboid to core if 'on'\n",
    "    for core in cores:\n",
    "        inter = intersection(cuboid,core)\n",
    "        if inter:\n",
    "            toadd += [inter] # if nonempty, add to the core later\n",
    "    cores += toadd\n",
    "\n",
    "def countoncubes(cores):\n",
    "    oncount = 0\n",
    "    for c in cores:\n",
    "        oncount += c[0] * (c[2]-c[1]+1) * (c[4]-c[3]+1) * (c[6]-c[5]+1)\n",
    "    return oncount\n",
    "\n",
    "print('On cubes:', countoncubes(cores))"
   ]
  },
  {
   "cell_type": "code",
   "execution_count": null,
   "id": "21996023",
   "metadata": {
    "scrolled": true
   },
   "outputs": [],
   "source": []
  }
 ],
 "metadata": {
  "kernelspec": {
   "display_name": "Python 3 (ipykernel)",
   "language": "python",
   "name": "python3"
  },
  "language_info": {
   "codemirror_mode": {
    "name": "ipython",
    "version": 3
   },
   "file_extension": ".py",
   "mimetype": "text/x-python",
   "name": "python",
   "nbconvert_exporter": "python",
   "pygments_lexer": "ipython3",
   "version": "3.9.7"
  }
 },
 "nbformat": 4,
 "nbformat_minor": 5
}

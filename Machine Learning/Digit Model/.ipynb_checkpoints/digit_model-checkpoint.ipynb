{
 "cells": [
  {
   "cell_type": "code",
   "execution_count": 1,
   "id": "0624e47a",
   "metadata": {},
   "outputs": [],
   "source": [
    "# This file 'digit_model' is how we are going to generate our model to predict what numbers were fed in. \n",
    "# The next file 'image_process' will discern what is fed into this model.\n",
    "# import the necessary modules\n",
    "import tensorflow as tf \n",
    "import matplotlib.pyplot as plt \n",
    "import numpy as np "
   ]
  },
  {
   "cell_type": "code",
   "execution_count": 2,
   "id": "e95ce817",
   "metadata": {
    "scrolled": true
   },
   "outputs": [],
   "source": [
    "# Tensorflow has a 70,000 digit MNIST dataset pre-built and cleaned available. \n",
    "# Load the data set and split as test/train 1:6 by default. \n",
    "# The images are already threshold cleaned, and 28x28 pixels\n",
    "(train_images, train_labels), (test_images, test_labels) = tf.keras.datasets.mnist.load_data()"
   ]
  },
  {
   "cell_type": "code",
   "execution_count": 4,
   "id": "fe563db6",
   "metadata": {
    "scrolled": true
   },
   "outputs": [
    {
     "name": "stdout",
     "output_type": "stream",
     "text": [
      "(10000, 28, 28)\n",
      "(60000, 28, 28)\n"
     ]
    }
   ],
   "source": [
    "# Normalize the images along the row axis\n",
    "train_images = tf.keras.utils.normalize(train_images, axis=1) \n",
    "test_images = tf.keras.utils.normalize(test_images, axis=1) \n",
    "print(test_images.shape)\n",
    "print(train_images.shape)"
   ]
  },
  {
   "cell_type": "code",
   "execution_count": 5,
   "id": "78f582d6",
   "metadata": {
    "scrolled": false
   },
   "outputs": [
    {
     "data": {
      "image/png": "[encoded data removed]",
      "text/plain": [
       "<Figure size 432x288 with 1 Axes>"
      ]
     },
     "metadata": {
      "needs_background": "light"
     },
     "output_type": "display_data"
    },
    {
     "name": "stdout",
     "output_type": "stream",
     "text": [
      "Image Label: 5\n"
     ]
    }
   ],
   "source": [
    "# Plot the first train image for reference\n",
    "plt.imshow(train_images[0], cmap=\"gray\") \n",
    "plt.show() \n",
    "print(f'Image Label: {train_labels[0]}')"
   ]
  },
  {
   "cell_type": "code",
   "execution_count": 16,
   "id": "b1a61972",
   "metadata": {
    "scrolled": false
   },
   "outputs": [
    {
     "name": "stdout",
     "output_type": "stream",
     "text": [
      "Model: \"sequential_11\"\n",
      "_________________________________________________________________\n",
      "Layer (type)                 Output Shape              Param #   \n",
      "=================================================================\n",
      "flatten_11 (Flatten)         (None, 784)               0         \n",
      "_________________________________________________________________\n",
      "dense_33 (Dense)             (None, 128)               100480    \n",
      "_________________________________________________________________\n",
      "dense_34 (Dense)             (None, 128)               16512     \n",
      "_________________________________________________________________\n",
      "dense_35 (Dense)             (None, 10)                1290      \n",
      "=================================================================\n",
      "Total params: 118,282\n",
      "Trainable params: 118,282\n",
      "Non-trainable params: 0\n",
      "_________________________________________________________________\n"
     ]
    }
   ],
   "source": [
    "# Now lets build a neural network and train it to the data. \n",
    "\n",
    "# A simple sequential model will do the trick since we are just using this for digit identification.\n",
    "# Using a Conv2D layer would likely improve our performance for image processing, but this scenario is not too demanding.  \n",
    "model = tf.keras.models.Sequential()\n",
    "\n",
    "# Lets flatten out the input image into a 1D array first\n",
    "model.add(tf.keras.layers.Flatten(input_shape=(28,28)))\n",
    "\n",
    "# Now we can add some fully conected hidden layers. \n",
    "# I arbitrarely chose 128 nodes for the two hidden layers based on similar examples. \n",
    "# You could probably get away with a better structure if in-depth optimization was needed. \n",
    "# The important thing is that our final layers has an output of 10 for the unique digits. \n",
    "model.add(tf.keras.layers.Dense(128, activation=tf.nn.relu))\n",
    "model.add(tf.keras.layers.Dense(128, activation=tf.nn.relu))\n",
    "model.add(tf.keras.layers.Dense(10, activation=tf.nn.softmax))\n",
    "\n",
    "model.summary()"
   ]
  },
  {
   "cell_type": "code",
   "execution_count": 17,
   "id": "73ced261",
   "metadata": {},
   "outputs": [
    {
     "name": "stdout",
     "output_type": "stream",
     "text": [
      "Epoch 1/5\n",
      "1875/1875 [==============================] - 2s 897us/step - loss: 0.2577 - accuracy: 0.9237\n",
      "Epoch 2/5\n",
      "1875/1875 [==============================] - 2s 882us/step - loss: 0.1032 - accuracy: 0.9679\n",
      "Epoch 3/5\n",
      "1875/1875 [==============================] - 2s 872us/step - loss: 0.0705 - accuracy: 0.9775\n",
      "Epoch 4/5\n",
      "1875/1875 [==============================] - 2s 885us/step - loss: 0.0522 - accuracy: 0.9834\n",
      "Epoch 5/5\n",
      "1875/1875 [==============================] - 2s 884us/step - loss: 0.0388 - accuracy: 0.9867\n"
     ]
    },
    {
     "data": {
      "text/plain": [
       "<keras.callbacks.History at 0x21949ee0e08>"
      ]
     },
     "execution_count": 17,
     "metadata": {},
     "output_type": "execute_result"
    }
   ],
   "source": [
    "# Now lets train the model. \n",
    "# Using categorical cross-entropy for our loss function, and going with \"adam\" to get an adaptive gradient descent optimzation.\n",
    "# Going with 5 epochs arbitarily as the performance turns out adequate.\n",
    "model.compile(optimizer=\"adam\", loss=\"sparse_categorical_crossentropy\", metrics=['accuracy'])\n",
    "model.fit(x=train_images, y=train_labels, epochs=5)"
   ]
  },
  {
   "cell_type": "code",
   "execution_count": 19,
   "id": "dce7aa18",
   "metadata": {
    "scrolled": true
   },
   "outputs": [
    {
     "name": "stdout",
     "output_type": "stream",
     "text": [
      "313/313 [==============================] - 0s 596us/step - loss: 0.0928 - accuracy: 0.9729\n",
      "Model Accuracy: 0.9728999733924866\n"
     ]
    }
   ],
   "source": [
    "# Now lets feed the test images into the trained model and check our performance. \n",
    "# If we really wanted to peel back the performance we sould be including multiple metrics for comparison. \n",
    "# Another multi-class metric we could run is macro/micro F1-score. This would give us a hybrid between precision and recall.\n",
    "test_loss, test_accuracy = model.evaluate(x=test_images, y=test_labels)\n",
    "print(f'Model Accuracy: {test_accuracy}')"
   ]
  },
  {
   "cell_type": "code",
   "execution_count": 20,
   "id": "24f006f9",
   "metadata": {
    "scrolled": false
   },
   "outputs": [],
   "source": [
    "# We can get the model's best prediction for each test image by choosing the highest output from that softmax output layer.\n",
    "predictions = model.predict([test_images]) \n",
    "pred_val = [np.argmax(x) for x in predictions]"
   ]
  },
  {
   "cell_type": "code",
   "execution_count": 21,
   "id": "6a1f17fe",
   "metadata": {},
   "outputs": [
    {
     "name": "stdout",
     "output_type": "stream",
     "text": [
      "Test precision: 7\n"
     ]
    },
    {
     "data": {
      "image/png": "[encoded data removed]",
      "text/plain": [
       "<Figure size 432x288 with 1 Axes>"
      ]
     },
     "metadata": {
      "needs_background": "light"
     },
     "output_type": "display_data"
    }
   ],
   "source": [
    "# Just as a sanity check, here is a predicted output example.\n",
    "print(f'Test precision: {pred_val[0]}') # Print out the number\n",
    "plt.imshow(test_images[0], cmap=\"gray\") # Import the image\n",
    "plt.show() # Show the image"
   ]
  },
  {
   "cell_type": "code",
   "execution_count": 22,
   "id": "76aa3b19",
   "metadata": {
    "scrolled": false
   },
   "outputs": [
    {
     "name": "stdout",
     "output_type": "stream",
     "text": [
      "INFO:tensorflow:Assets written to: digit_model\\assets\n"
     ]
    }
   ],
   "source": [
    "# Great, everything is working. Now we can save the model and use it for our images. \n",
    "model.save('digit_model')"
   ]
  }
 ],
 "metadata": {
  "kernelspec": {
   "display_name": "Python 3 (ipykernel)",
   "language": "python",
   "name": "python3"
  },
  "language_info": {
   "codemirror_mode": {
    "name": "ipython",
    "version": 3
   },
   "file_extension": ".py",
   "mimetype": "text/x-python",
   "name": "python",
   "nbconvert_exporter": "python",
   "pygments_lexer": "ipython3",
   "version": "3.7.12"
  }
 },
 "nbformat": 4,
 "nbformat_minor": 5
}
